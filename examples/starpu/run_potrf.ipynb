{
 "cells": [
  {
   "cell_type": "code",
   "execution_count": null,
   "metadata": {},
   "outputs": [],
   "source": [
    "import os\n",
    "pwd = os.getcwd()\n",
    "\n",
    "# Paths to sources\n",
    "blaspp_source = \"/home/weslleyp/storage/blaspp\"\n",
    "lapackpp_source = \"/home/weslleyp/storage/lapackpp\"\n",
    "tlapack_source = \"/home/weslleyp/storage/tlapack\"\n",
    "\n",
    "# Paths to libraries\n",
    "tlapack_DIR = pwd+\"/tlapack\"\n",
    "tlapackLAPACK_DIR = pwd+\"/tlapack_LAPACK\"\n",
    "blaspp_DIR = pwd+\"/blaspp\"\n",
    "lapackpp_DIR = pwd+\"/lapackpp\"\n",
    "starpu_DIR = \"/home/weslleyp/storage/starpu/build/lib\"\n",
    "\n",
    "# Set environment variables for StarPU\n",
    "os.environ[\"PKG_CONFIG_PATH\"] = starpu_DIR+\"/pkgconfig\"\n",
    "os.environ[\"STARPU_SCHED\"] = \"dmdas\"\n",
    "os.environ[\"HWLOC_COMPONENTS\"] = \"-gl\"\n",
    "\n",
    "# Load Python modules\n",
    "import numpy as np\n",
    "import matplotlib.pyplot as plt\n",
    "import matplotlib\n",
    "from IPython.display import display, Math\n",
    "import time"
   ]
  },
  {
   "cell_type": "code",
   "execution_count": null,
   "metadata": {},
   "outputs": [],
   "source": [
    "# System:\n",
    "!uname -a"
   ]
  },
  {
   "cell_type": "code",
   "execution_count": null,
   "metadata": {},
   "outputs": [],
   "source": [
    "# Machine:\n",
    "!lscpu"
   ]
  },
  {
   "cell_type": "code",
   "execution_count": null,
   "metadata": {},
   "outputs": [],
   "source": [
    "# Nvidia version:\n",
    "!nvidia-smi"
   ]
  },
  {
   "cell_type": "code",
   "execution_count": null,
   "metadata": {},
   "outputs": [],
   "source": [
    "# MKL version:\n",
    "!which mkl_link_tool"
   ]
  },
  {
   "cell_type": "code",
   "execution_count": null,
   "metadata": {},
   "outputs": [],
   "source": [
    "#Build\n",
    "\n",
    "# Install <T>LAPACK\n",
    "!cmake -B \"$tlapack_DIR\" -G Ninja -D CMAKE_BUILD_TYPE=Release -D BUILD_EXAMPLES=OFF -D BUILD_TESTING=OFF -D TLAPACK_NDEBUG=ON -D CMAKE_INSTALL_PREFIX=\"$tlapack_DIR\" -D CMAKE_INSTALL_MESSAGE=\"LAZY\" \"$tlapack_source\"\n",
    "!cmake --build \"$tlapack_DIR\" --target install\n",
    "\n",
    "# Build\n",
    "!cmake -B build -G Ninja -D CMAKE_BUILD_TYPE=Release -D CMAKE_PREFIX_PATH=\".\"\n",
    "!cmake --build build"
   ]
  },
  {
   "cell_type": "code",
   "execution_count": null,
   "metadata": {},
   "outputs": [],
   "source": [
    "!./build/example_starpu_potrf 1000 20 all yes"
   ]
  },
  {
   "cell_type": "code",
   "execution_count": null,
   "metadata": {},
   "outputs": [],
   "source": [
    "!./build/example_starpu_lapack 1000"
   ]
  },
  {
   "cell_type": "code",
   "execution_count": null,
   "metadata": {},
   "outputs": [],
   "source": [
    "#Build with MKL\n",
    "\n",
    "# Install BLAS++\n",
    "!cmake -B \"$blaspp_DIR\" -G Ninja -D CMAKE_BUILD_TYPE=Release -D build_tests=OFF -D CMAKE_INSTALL_PREFIX=\"$blaspp_DIR\" -D CMAKE_INSTALL_MESSAGE=\"LAZY\" \"$blaspp_source\"\n",
    "!cmake --build \"$blaspp_DIR\" --target install\n",
    "\n",
    "# Install LAPACK++\n",
    "!cmake -B \"$lapackpp_DIR\" -G Ninja -D CMAKE_BUILD_TYPE=Release -D build_tests=OFF -D CMAKE_INSTALL_PREFIX=\"$lapackpp_DIR\" -D CMAKE_INSTALL_MESSAGE=\"LAZY\" -D blaspp_DIR=\"$blaspp_DIR\" \"$lapackpp_source\"\n",
    "!cmake --build \"$lapackpp_DIR\" --target install\n",
    "\n",
    "# Install <T>LAPACK\n",
    "!cmake -B \"$tlapackLAPACK_DIR\" -G Ninja -D CMAKE_BUILD_TYPE=Release -D BUILD_EXAMPLES=OFF -D BUILD_TESTING=OFF -D TLAPACK_NDEBUG=ON -D CMAKE_INSTALL_PREFIX=\"$tlapackLAPACK_DIR\" -D CMAKE_INSTALL_MESSAGE=\"LAZY\" -D USE_LAPACKPP_WRAPPERS=ON -D blaspp_DIR=\"$blaspp_DIR\" -D lapackpp_DIR=\"$lapackpp_DIR\" \"$tlapack_source\"\n",
    "!cmake --build \"$tlapackLAPACK_DIR\" --target install\n",
    "\n",
    "# Build\n",
    "!cmake -B build_LAPACK -G Ninja -D CMAKE_BUILD_TYPE=Release -D tlapack_DIR=\"$tlapackLAPACK_DIR\" -D blaspp_DIR=\"$blaspp_DIR\" -D lapackpp_DIR=\"$lapackpp_DIR\"\n",
    "!cmake --build build_LAPACK"
   ]
  },
  {
   "cell_type": "code",
   "execution_count": null,
   "metadata": {},
   "outputs": [],
   "source": [
    "!./build_LAPACK/example_starpu_potrf 1000 20 all yes"
   ]
  },
  {
   "attachments": {},
   "cell_type": "markdown",
   "metadata": {},
   "source": [
    "# First test: Find optimal block size for a given matrix size"
   ]
  },
  {
   "cell_type": "code",
   "execution_count": null,
   "metadata": {},
   "outputs": [],
   "source": [
    "# Set environment variables for StarPU\n",
    "if 'STARPU_NCUDA' in os.environ:\n",
    "    print(\"STARPU_NCUDA: \", os.environ['STARPU_NCUDA'])\n",
    "    del os.environ['STARPU_NCUDA']\n",
    "if 'STARPU_NCPU' in os.environ:\n",
    "    print(\"STARPU_NCPU: \", os.environ['STARPU_NCPU'])\n",
    "    del os.environ['STARPU_NCPU']"
   ]
  },
  {
   "cell_type": "code",
   "execution_count": null,
   "metadata": {},
   "outputs": [],
   "source": [
    "n = 7680\n",
    "\n",
    "# vector with integer factors of n\n",
    "parts = [i for i in range(8,21) if n%i==0]\n",
    "N = len(parts)\n",
    "\n",
    "precision = [\"single\",\"double\"]\n",
    "NT = len(precision)\n",
    "\n",
    "nRuns = 5\n",
    "\n",
    "executable = [\n",
    "    \"build_LAPACK/example_starpu_potrf\"\n",
    "]\n",
    "methods = [\n",
    "    r\"C++ templates + cuBLAS + cuSOLVER + MKL\"\n",
    "]\n",
    "M = len(executable)\n",
    "\n",
    "# Partition sizes\n",
    "nb = np.divide(n,parts)\n",
    "\n",
    "# FLOPs\n",
    "FLOPs_mul = n * (((n*1.)/6+.5)*n+1./3)\n",
    "FLOPs_add = n * (((n*1.)/6)*n-1./6)\n",
    "FLOPs = FLOPs_mul + FLOPs_add\n",
    "\n",
    "print(\"Size of the matrix = \"+str(n))\n",
    "print(\"Partitions: \"+str(parts))\n",
    "print(\"Precisions: \"+str(precision))\n",
    "print(\"Number of runs = \"+str(nRuns))"
   ]
  },
  {
   "cell_type": "code",
   "execution_count": null,
   "metadata": {},
   "outputs": [],
   "source": [
    "expr = executable[0]\n",
    "!$expr {n} {nb[3]} {precision[0]}"
   ]
  },
  {
   "cell_type": "code",
   "execution_count": null,
   "metadata": {},
   "outputs": [],
   "source": [
    "# %%script false --no-raise-error\n",
    "# # Comment the line above to run this cell\n",
    "\n",
    "data = np.ones([M,N,NT], dtype=np.float64) * 60 * 60 * 24\n",
    "\n",
    "for s in range(M):\n",
    "    expr = executable[s]\n",
    "    for i in range(N):\n",
    "        nbi = nb[i]\n",
    "        for k in range(NT):\n",
    "            for j in range(nRuns):\n",
    "                time.sleep(5)\n",
    "                output = !$expr {n} {nbi} {precision[k]} | grep time\n",
    "                print(output)\n",
    "                try:\n",
    "                    aux = float(output[-1].split()[2])\n",
    "                    data[s,i,k] = np.minimum( aux, data[s,i,k] )\n",
    "                except:\n",
    "                    print(\"Not a float: \", output)"
   ]
  },
  {
   "cell_type": "code",
   "execution_count": null,
   "metadata": {},
   "outputs": [],
   "source": [
    "markers = ['x-','*-','+-']\n",
    "plt.rcParams['font.size'] = 12\n",
    "\n",
    "for p in range(NT):\n",
    "    print(precision[p])\n",
    "\n",
    "    fig1, ax1 = plt.subplots()\n",
    "\n",
    "    for m in range(M):\n",
    "        gflops = np.divide(FLOPs/1e9,data[m,:,p])\n",
    "        plt.plot(nb,gflops,markers[m%3],label=methods[m])\n",
    "\n",
    "    # ax1.set_xscale(\"log\")\n",
    "    # ax1.set_yscale(\"log\")\n",
    "    # ax1.set_xticks(parts)\n",
    "    ax1.get_xaxis().set_major_formatter(matplotlib.ticker.ScalarFormatter())\n",
    "\n",
    "    plt.xlabel(\"$n_b$\")\n",
    "    plt.ylabel(\"GFLOPS\")\n",
    "    plt.legend()\n",
    "\n",
    "    plt.tight_layout()\n",
    "    plt.savefig(\"curves_\"+precision[p]+\".pdf\")\n",
    "    plt.show()"
   ]
  },
  {
   "attachments": {},
   "cell_type": "markdown",
   "metadata": {},
   "source": [
    "# Take the best block size and compare with MKL and StarPU"
   ]
  },
  {
   "cell_type": "code",
   "execution_count": null,
   "metadata": {},
   "outputs": [],
   "source": [
    "nx_best = np.zeros([NT], dtype=int)\n",
    "for k in range(NT):\n",
    "    nx_best[k] = parts[np.argmin(data[0,:,k])]\n",
    "    # nx_best[k] = 16\n",
    "\n",
    "print(nx_best)\n",
    "\n",
    "nRuns = 5 # for the best partition size"
   ]
  },
  {
   "cell_type": "code",
   "execution_count": null,
   "metadata": {},
   "outputs": [],
   "source": [
    "# %%script false --no-raise-error\n",
    "# # Comment the line above to run this cell\n",
    "\n",
    "dataMKL = np.ones([NT], dtype=np.float64) * 60 * 60 * 24\n",
    "\n",
    "expr = \"build/example_starpu_lapack\"\n",
    "for k in range(NT):\n",
    "    for j in range(nRuns):\n",
    "        time.sleep(5)\n",
    "        output = !$expr {n} {precision[k]} | grep time\n",
    "        print(output)\n",
    "        try:\n",
    "            aux = float(output[-1].split()[2])\n",
    "            dataMKL[k] = np.minimum( aux, dataMKL[k] )\n",
    "        except:\n",
    "            print(\"Not a float: \", output)\n",
    "\n",
    "for p in range(NT):\n",
    "    print(precision[p])\n",
    "\n",
    "    gflops = np.divide(FLOPs/1e9,dataMKL[p])\n",
    "    print(\"time[s] = \", dataMKL[p])\n",
    "    print(\"GFLOPS = \", gflops)"
   ]
  },
  {
   "cell_type": "code",
   "execution_count": null,
   "metadata": {},
   "outputs": [],
   "source": [
    "# %%script false --no-raise-error\n",
    "# # Comment the line above to run this cell\n",
    "\n",
    "dataTLAPACKStarPUmkl = np.ones([NT], dtype=np.float64) * 60 * 60 * 24\n",
    "\n",
    "expr = \"build_LAPACK/example_starpu_potrf\"\n",
    "for k in range(NT):\n",
    "    for j in range(nRuns):\n",
    "        time.sleep(5)\n",
    "        output = !$expr {n} {n/nx_best[k]} {precision[k]} | grep time\n",
    "        print(output)\n",
    "        try:\n",
    "            aux = float(output[-1].split()[2])\n",
    "            dataTLAPACKStarPUmkl[k] = np.minimum( aux, dataTLAPACKStarPUmkl[k] )\n",
    "        except:\n",
    "            print(\"Not a float: \", output)\n",
    "\n",
    "for p in range(NT):\n",
    "    print(precision[p])\n",
    "\n",
    "    gflops = np.divide(FLOPs/1e9,dataTLAPACKStarPUmkl[p])\n",
    "    print(\"time[s] = \", dataTLAPACKStarPUmkl[p])\n",
    "    print(\"GFLOPS = \", gflops)"
   ]
  },
  {
   "cell_type": "code",
   "execution_count": null,
   "metadata": {},
   "outputs": [],
   "source": [
    "# %%script false --no-raise-error\n",
    "# # Comment the line above to run this cell\n",
    "\n",
    "expr = starpu_DIR + \"/starpu/examples/cholesky_implicit\"\n",
    "for j in range(nRuns):\n",
    "    time.sleep(5)\n",
    "    output = !$expr -size {n} -nblocks {nx_best[0]} -no-prio\n",
    "    print(output[-1])"
   ]
  },
  {
   "attachments": {},
   "cell_type": "markdown",
   "metadata": {},
   "source": [
    "# First test: Find optimal block size without GPU"
   ]
  },
  {
   "cell_type": "code",
   "execution_count": null,
   "metadata": {},
   "outputs": [],
   "source": [
    "# Set environment variables for StarPU\n",
    "os.environ[\"STARPU_NCUDA\"] = \"0\"\n",
    "if 'STARPU_NCPU' in os.environ:\n",
    "    del os.environ['STARPU_NCPU']"
   ]
  },
  {
   "cell_type": "code",
   "execution_count": null,
   "metadata": {},
   "outputs": [],
   "source": [
    "n = 7680\n",
    "\n",
    "# vector with integer factors of n\n",
    "parts = [i for i in range(6,60) if n%i==0]\n",
    "N = len(parts)\n",
    "\n",
    "precision = [\"single\"]\n",
    "NT = len(precision)\n",
    "\n",
    "nRuns = 5\n",
    "\n",
    "executable = [\n",
    "    \"build_LAPACK/example_starpu_potrf\"\n",
    "]\n",
    "methods = [\n",
    "    r\"C++ templates + MKL\"\n",
    "]\n",
    "M = len(executable)\n",
    "\n",
    "# Partition sizes\n",
    "nb = np.divide(n,parts)\n",
    "\n",
    "# FLOPs\n",
    "FLOPs_mul = n * (((n*1.)/6+.5)*n+1./3)\n",
    "FLOPs_add = n * (((n*1.)/6)*n-1./6)\n",
    "FLOPs = FLOPs_mul + FLOPs_add\n",
    "\n",
    "print(\"Size of the matrix = \"+str(n))\n",
    "print(\"Partitions: \"+str(parts))\n",
    "print(\"Precisions: \"+str(precision))\n",
    "print(\"Number of runs = \"+str(nRuns))"
   ]
  },
  {
   "cell_type": "code",
   "execution_count": null,
   "metadata": {},
   "outputs": [],
   "source": [
    "expr = executable[0]\n",
    "!$expr {n} {nb[0]} {precision[0]} y"
   ]
  },
  {
   "cell_type": "code",
   "execution_count": null,
   "metadata": {},
   "outputs": [],
   "source": [
    "# %%script false --no-raise-error\n",
    "# # Comment the line above to run this cell\n",
    "\n",
    "data = np.ones([M,N,NT], dtype=np.float64) * 60 * 60 * 24\n",
    "\n",
    "for s in range(M):\n",
    "    expr = executable[s]\n",
    "    for i in range(N):\n",
    "        nbi = nb[i]\n",
    "        for k in range(NT):\n",
    "            for j in range(nRuns):\n",
    "                time.sleep(5)\n",
    "                output = !$expr {n} {nbi} {precision[k]} | grep time\n",
    "                print(output)\n",
    "                try:\n",
    "                    aux = float(output[-1].split()[2])\n",
    "                    data[s,i,k] = np.minimum( aux, data[s,i,k] )\n",
    "                except:\n",
    "                    print(\"Not a float: \", output)"
   ]
  },
  {
   "cell_type": "code",
   "execution_count": null,
   "metadata": {},
   "outputs": [],
   "source": [
    "markers = ['x-','*-','+-']\n",
    "plt.rcParams['font.size'] = 12\n",
    "\n",
    "for p in range(NT):\n",
    "    print(precision[p])\n",
    "\n",
    "    fig1, ax1 = plt.subplots()\n",
    "\n",
    "    for m in range(M):\n",
    "        gflops = np.divide(FLOPs/1e9,data[m,:,p])\n",
    "        plt.plot(nb,gflops,markers[m%3],label=methods[m])\n",
    "\n",
    "    # ax1.set_xscale(\"log\")\n",
    "    # ax1.set_yscale(\"log\")\n",
    "    # ax1.set_xticks(parts)\n",
    "    ax1.get_xaxis().set_major_formatter(matplotlib.ticker.ScalarFormatter())\n",
    "\n",
    "    plt.xlabel(\"$n_b$\")\n",
    "    plt.ylabel(\"GFLOPS\")\n",
    "    plt.legend()\n",
    "\n",
    "    plt.tight_layout()\n",
    "    plt.savefig(\"curves_\"+precision[p]+\".pdf\")\n",
    "    plt.show()"
   ]
  },
  {
   "cell_type": "code",
   "execution_count": null,
   "metadata": {},
   "outputs": [],
   "source": [
    "nx_best = np.zeros([NT], dtype=np.float64)\n",
    "for k in range(NT):\n",
    "    nx_best[k] = parts[np.argmin(data[0,:,k])]\n",
    "    # nx_best[k] = 15\n",
    "print(\"Best nb:\", np.divide(n,nx_best))\n",
    "\n",
    "nRuns = 5 # for the best partition size"
   ]
  },
  {
   "cell_type": "code",
   "execution_count": null,
   "metadata": {},
   "outputs": [],
   "source": [
    "# %%script false --no-raise-error\n",
    "# # Comment the line above to run this cell\n",
    "\n",
    "dataTLAPACKStarPUmkl = np.ones([NT], dtype=np.float64) * 60 * 60 * 24\n",
    "\n",
    "expr = \"build_LAPACK/example_starpu_potrf\"\n",
    "for k in range(NT):\n",
    "    for j in range(nRuns):\n",
    "        time.sleep(5)\n",
    "        output = !$expr {n} {n/nx_best[k]} {precision[k]} | grep time\n",
    "        print(output)\n",
    "        try:\n",
    "            aux = float(output[-1].split()[2])\n",
    "            dataTLAPACKStarPUmkl[k] = np.minimum( aux, dataTLAPACKStarPUmkl[k] )\n",
    "        except:\n",
    "            print(\"Not a float: \", output)\n",
    "\n",
    "for p in range(NT):\n",
    "    print(precision[p])\n",
    "\n",
    "    gflops = np.divide(FLOPs/1e9,dataTLAPACKStarPUmkl[p])\n",
    "    print(\"time[s] = \", dataTLAPACKStarPUmkl[p])\n",
    "    print(\"GFLOPS = \", gflops)"
   ]
  },
  {
   "cell_type": "code",
   "execution_count": null,
   "metadata": {},
   "outputs": [],
   "source": [
    "# %%script false --no-raise-error\n",
    "# # Comment the line above to run this cell\n",
    "\n",
    "expr = starpu_DIR + \"/starpu/examples/cholesky_implicit\"\n",
    "for j in range(nRuns):\n",
    "    time.sleep(5)\n",
    "    output = !$expr -size {n} -nblocks {nx_best[0]} -no-prio\n",
    "    print(output[-1])"
   ]
  },
  {
   "cell_type": "code",
   "execution_count": null,
   "metadata": {},
   "outputs": [],
   "source": [
    "expr = \"build_LAPACK/example_starpu_potrf\"\n",
    "!$expr {n} {n/48} single"
   ]
  }
 ],
 "metadata": {
  "kernelspec": {
   "display_name": "Python 3 (ipykernel)",
   "language": "python",
   "name": "python3"
  },
  "language_info": {
   "codemirror_mode": {
    "name": "ipython",
    "version": 3
   },
   "file_extension": ".py",
   "mimetype": "text/x-python",
   "name": "python",
   "nbconvert_exporter": "python",
   "pygments_lexer": "ipython3",
   "version": "3.8.10"
  }
 },
 "nbformat": 4,
 "nbformat_minor": 2
}
